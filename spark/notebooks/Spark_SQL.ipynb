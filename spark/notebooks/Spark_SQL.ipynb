{
 "cells": [
  {
   "cell_type": "code",
   "execution_count": 1,
   "id": "07be0fb7",
   "metadata": {},
   "outputs": [
    {
     "data": {
      "text/plain": [
       "True"
      ]
     },
     "execution_count": 1,
     "metadata": {},
     "output_type": "execute_result"
    }
   ],
   "source": [
    "import os\n",
    "import pandas as pd\n",
    "from dotenv import load_dotenv\n",
    "\n",
    "import pyspark\n",
    "from pyspark.sql import SparkSession\n",
    "from pyspark.sql import types \n",
    "from pyspark.sql.functions import to_timestamp\n",
    "\n",
    "load_dotenv()"
   ]
  },
  {
   "cell_type": "code",
   "execution_count": 2,
   "id": "2ca679af",
   "metadata": {},
   "outputs": [],
   "source": [
    "spark = SparkSession.builder \\\n",
    "    .master(\"local[*]\") \\\n",
    "    .appName('test') \\\n",
    "    .getOrCreate()"
   ]
  },
  {
   "cell_type": "code",
   "execution_count": 3,
   "id": "eb6a0111",
   "metadata": {},
   "outputs": [],
   "source": [
    "SPARK_PARQUET_PATH = os.getenv(\"SPARK_PARQUET_PATH\")"
   ]
  },
  {
   "cell_type": "code",
   "execution_count": 4,
   "id": "8deac80b",
   "metadata": {},
   "outputs": [
    {
     "name": "stdout",
     "output_type": "stream",
     "text": [
      "root\n",
      " |-- Hotel_Address: string (nullable = true)\n",
      " |-- Additional_Number_of_Scoring: integer (nullable = true)\n",
      " |-- Review_Date: timestamp (nullable = true)\n",
      " |-- Average_Score: double (nullable = true)\n",
      " |-- Hotel_Name: string (nullable = true)\n",
      " |-- Reviewer_Nationality: string (nullable = true)\n",
      " |-- Negative_Review: string (nullable = true)\n",
      " |-- Review_Total_Negative_Word_Counts: integer (nullable = true)\n",
      " |-- Total_Number_of_Reviews: integer (nullable = true)\n",
      " |-- Positive_Review: string (nullable = true)\n",
      " |-- Review_Total_Positive_Word_Counts: integer (nullable = true)\n",
      " |-- Total_Number_of_Reviews_Reviewer_Has_Given: integer (nullable = true)\n",
      " |-- Reviewer_Score: double (nullable = true)\n",
      " |-- Tags: string (nullable = true)\n",
      " |-- days_since_review: string (nullable = true)\n",
      " |-- lat: double (nullable = true)\n",
      " |-- lng: double (nullable = true)\n",
      "\n"
     ]
    }
   ],
   "source": [
    "df = spark.read.parquet(f\"{SPARK_PARQUET_PATH}\")\n",
    "df.printSchema()"
   ]
  },
  {
   "cell_type": "code",
   "execution_count": 5,
   "id": "b1aae544",
   "metadata": {},
   "outputs": [
    {
     "data": {
      "text/plain": [
       "[('Hotel_Address', 'string'),\n",
       " ('Additional_Number_of_Scoring', 'int'),\n",
       " ('Review_Date', 'timestamp'),\n",
       " ('Average_Score', 'double'),\n",
       " ('Hotel_Name', 'string'),\n",
       " ('Reviewer_Nationality', 'string'),\n",
       " ('Negative_Review', 'string'),\n",
       " ('Review_Total_Negative_Word_Counts', 'int'),\n",
       " ('Total_Number_of_Reviews', 'int'),\n",
       " ('Positive_Review', 'string'),\n",
       " ('Review_Total_Positive_Word_Counts', 'int'),\n",
       " ('Total_Number_of_Reviews_Reviewer_Has_Given', 'int'),\n",
       " ('Reviewer_Score', 'double'),\n",
       " ('Tags', 'string'),\n",
       " ('days_since_review', 'string'),\n",
       " ('lat', 'double'),\n",
       " ('lng', 'double')]"
      ]
     },
     "execution_count": 5,
     "metadata": {},
     "output_type": "execute_result"
    }
   ],
   "source": [
    "df.dtypes"
   ]
  },
  {
   "cell_type": "code",
   "execution_count": 6,
   "id": "58351338",
   "metadata": {},
   "outputs": [
    {
     "name": "stdout",
     "output_type": "stream",
     "text": [
      "+--------------------+----------------------------+-------------------+-------------+--------------------+--------------------+--------------------+---------------------------------+-----------------------+--------------------+---------------------------------+------------------------------------------+--------------+--------------------+-----------------+----------+----------+\n",
      "|       Hotel_Address|Additional_Number_of_Scoring|        Review_Date|Average_Score|          Hotel_Name|Reviewer_Nationality|     Negative_Review|Review_Total_Negative_Word_Counts|Total_Number_of_Reviews|     Positive_Review|Review_Total_Positive_Word_Counts|Total_Number_of_Reviews_Reviewer_Has_Given|Reviewer_Score|                Tags|days_since_review|       lat|       lng|\n",
      "+--------------------+----------------------------+-------------------+-------------+--------------------+--------------------+--------------------+---------------------------------+-----------------------+--------------------+---------------------------------+------------------------------------------+--------------+--------------------+-----------------+----------+----------+\n",
      "|1 Rue Du G n ral ...|                          89|2015-09-30 00:00:00|          8.2| Gardette Park Hotel| United States of...| Not a lot of int...|                               20|                   1011| We had a large c...|                               62|                                         1|           9.6|[' Leisure trip '...|          673 day|48.8610265| 2.3788974|\n",
      "|1 Inverness Terra...|                        1274|2016-04-24 00:00:00|          7.7|Grand Royale Lond...|              Qatar |   bathroom is small|                                4|                   6539| the location and...|                                5|                                        17|           8.3|[' Leisure trip '...|          466 day|51.5109945|-0.1863417|\n",
      "|10 Palace Place W...|                         303|2016-09-01 00:00:00|          9.3| The Nadler Victoria|     United Kingdom |             Nothing|                                2|                   1608| Excellent custom...|                                4|                                         1|          10.0|[' Leisure trip '...|          336 day|51.4990259|-0.1427453|\n",
      "|1 Inverness Terra...|                        1274|2017-01-02 00:00:00|          7.7|Grand Royale Lond...|     United Kingdom | Room was super s...|                               21|                   6539| Decent location ...|                               18|                                         4|           6.3|[' Leisure trip '...|          213 day|51.5109945|-0.1863417|\n",
      "|1 2 Serjeant s In...|                         639|2016-10-18 00:00:00|          9.2|Apex Temple Court...|        Switzerland | I could heard my...|                               21|                   2619|           Good beds|                                3|                                         1|           8.3|[' Leisure trip '...|          289 day|51.5137335|-0.1087512|\n",
      "|1 Inverness Terra...|                        1274|2016-07-10 00:00:00|          7.7|Grand Royale Lond...|     United Kingdom | Room was tiny Ve...|                               11|                   6539| Hotel was lovely...|                               13|                                         7|           7.9|[' Leisure trip '...|          389 day|51.5109945|-0.1863417|\n",
      "|1 Inverness Terra...|                        1274|2016-04-10 00:00:00|          7.7|Grand Royale Lond...|     United Kingdom | I upgraded from ...|                               44|                   6539| Location is perfect|                                4|                                         7|           6.3|[' Business trip ...|          480 day|51.5109945|-0.1863417|\n",
      "|1 Kings Cross Roa...|                         628|2016-12-19 00:00:00|          8.1|Crowne Plaza Lond...|     United Kingdom | The hash browns ...|                               12|                   2312| The bed was very...|                               21|                                         1|           6.7|[' Leisure trip '...|          227 day|51.5263854|-0.1136042|\n",
      "|1 8 Russell Squar...|                         724|2015-10-18 00:00:00|          8.0|The Principal London|     United Kingdom | hot water tap on...|                               48|                   3150|         No Positive|                                0|                                         1|           8.8|[' Solo traveler ...|          655 day|51.5226217|-0.1251602|\n",
      "|1 Rue De Libourne...|                         150|2016-08-12 00:00:00|          8.7|Pullman Paris Cen...|       Saudi Arabia | Restaurant close...|                               19|                   1382| The rooms are ve...|                               26|                                        19|           9.2|[' Leisure trip '...|          356 day|48.8315204| 2.3870797|\n",
      "|1 Shortlands Hamm...|                         704|2016-04-24 00:00:00|          8.3| Novotel London West|     United Kingdom | 1 The Ice maker ...|                               77|                   2443| The staff was ki...|                               16|                                         1|           8.3|[' Leisure trip '...|          466 day|51.4919588|-0.2200956|\n",
      "|1 2 Serjeant s In...|                         639|2015-10-20 00:00:00|          9.2|Apex Temple Court...|           Bulgaria | The only drawbac...|                               46|                   2619| Liked everything...|                               22|                                        24|           9.6|[' Business trip ...|          653 day|51.5137335|-0.1087512|\n",
      "|1 Addington Stree...|                        1322|2017-03-10 00:00:00|          8.4|Park Plaza County...|     United Kingdom | The bed was very...|                               17|                   6117| The atmosphere w...|                               20|                                         1|           7.5|[' Couple ', ' Su...|          146 day|51.5014001|-0.1160092|\n",
      "|1 2 Serjeant s In...|                         639|2016-04-10 00:00:00|          9.2|Apex Temple Court...|     United Kingdom |         No Negative|                                0|                   2619| bed good room d ...|                               13|                                         8|           9.2|[' Leisure trip '...|          480 day|51.5137335|-0.1087512|\n",
      "|10 Pepys Street C...|                         215|2016-10-30 00:00:00|          8.6|Novotel London To...|     United Kingdom |         No Negative|                                0|                   1082| This was the sec...|                               53|                                         1|           9.6|[' Leisure trip '...|          277 day|51.5106538|-0.0773676|\n",
      "|1 Inverness Terra...|                        1274|2016-07-24 00:00:00|          7.7|Grand Royale Lond...|     United Kingdom | Slightly bigger ...|                                4|                   6539| Bed extra comfor...|                                8|                                         2|          10.0|[' Leisure trip '...|          375 day|51.5109945|-0.1863417|\n",
      "|1 Addington Stree...|                        1322|2016-07-11 00:00:00|          8.4|Park Plaza County...|     United Kingdom | Couple of negati...|                               21|                   6117| The receptionist...|                               32|                                        19|           9.6|[' Business trip ...|          388 day|51.5014001|-0.1160092|\n",
      "|1 8 Russell Squar...|                         724|2015-09-29 00:00:00|          8.0|The Principal London|     United Kingdom | It was a lovely ...|                                6|                   3150| The staff were e...|                                5|                                         6|          10.0|[' Leisure trip '...|          674 day|51.5226217|-0.1251602|\n",
      "|1 Shortlands Hamm...|                         704|2015-11-23 00:00:00|          8.3| Novotel London West|     United Kingdom |         No Negative|                                0|                   2443| Staff are very g...|                               16|                                         8|           7.9|[' Business trip ...|          619 day|51.4919588|-0.2200956|\n",
      "|1 8 Russell Squar...|                         724|2016-02-16 00:00:00|          8.0|The Principal London|             France | Price ok for a b...|                               25|                   3150| Great location i...|                               18|                                        24|           6.7|[' Business trip ...|          534 day|51.5226217|-0.1251602|\n",
      "+--------------------+----------------------------+-------------------+-------------+--------------------+--------------------+--------------------+---------------------------------+-----------------------+--------------------+---------------------------------+------------------------------------------+--------------+--------------------+-----------------+----------+----------+\n",
      "only showing top 20 rows\n",
      "\n"
     ]
    }
   ],
   "source": [
    "df.show()"
   ]
  },
  {
   "cell_type": "code",
   "execution_count": 7,
   "id": "1b0b46d4",
   "metadata": {},
   "outputs": [
    {
     "name": "stdout",
     "output_type": "stream",
     "text": [
      "+-----------------------------------------------------------------+----------------------------+-------------------+-------------+-------------------------------+--------------------------+----------------------------------------------------------------------------------------------------------------------------------------------------------------------------------------------------------------------------------------------------------------------------------------------------------------------------------------------------------+---------------------------------+-----------------------+----------------------------------------------------------------------------------------------------------------------------------------------------------------------------------------------------------------------------------------------------------------------------------------------------------------------------------------------------------------+---------------------------------+------------------------------------------+--------------+-------------------------------------------------------------------------------------------------------------------------------------------------+-----------------+----------+----------+-------------+\n",
      "|Hotel_Address                                                    |Additional_Number_of_Scoring|Review_Date        |Average_Score|Hotel_Name                     |Reviewer_Nationality      |Negative_Review                                                                                                                                                                                                                                                                                                                                           |Review_Total_Negative_Word_Counts|Total_Number_of_Reviews|Positive_Review                                                                                                                                                                                                                                                                                                                                                 |Review_Total_Positive_Word_Counts|Total_Number_of_Reviews_Reviewer_Has_Given|Reviewer_Score|Tags                                                                                                                                             |days_since_review|lat       |lng       |Hotel_Country|\n",
      "+-----------------------------------------------------------------+----------------------------+-------------------+-------------+-------------------------------+--------------------------+----------------------------------------------------------------------------------------------------------------------------------------------------------------------------------------------------------------------------------------------------------------------------------------------------------------------------------------------------------+---------------------------------+-----------------------+----------------------------------------------------------------------------------------------------------------------------------------------------------------------------------------------------------------------------------------------------------------------------------------------------------------------------------------------------------------+---------------------------------+------------------------------------------+--------------+-------------------------------------------------------------------------------------------------------------------------------------------------+-----------------+----------+----------+-------------+\n",
      "|1 Rue Du G n ral Blaise 11th arr 75011 Paris France              |89                          |2015-09-30 00:00:00|8.2          |Gardette Park Hotel            | United States of America | Not a lot of interesting restaurants within easy walking distance but a very friendly bar on the corner                                                                                                                                                                                                                                                  |20                               |1011                   | We had a large corner room with balcony and were within easy walking distance of Metro Saint Ambroise 9 line and 69 bus which goes to many of the major attractions Hotel was VERY clean and staff was helpful Breakfast buffet was relatively inexpensive and included all the basics coffee juice croissants cheese hard boiled eggs cereal yogurt jam fruit |62                               |1                                         |9.6           |[' Leisure trip ', ' Group ', ' Twin Room ', ' Stayed 6 nights ']                                                                                |673 day          |48.8610265|2.3788974 |France       |\n",
      "|1 Inverness Terrace Westminster Borough London W2 3JP UK         |1274                        |2016-04-24 00:00:00|7.7          |Grand Royale London Hyde Park  | Qatar                    | bathroom is small                                                                                                                                                                                                                                                                                                                                        |4                                |6539                   | the location and lobby                                                                                                                                                                                                                                                                                                                                         |5                                |17                                        |8.3           |[' Leisure trip ', ' Solo traveler ', ' Deluxe Double Room ', ' Stayed 2 nights ', ' Submitted from a mobile device ']                           |466 day          |51.5109945|-0.1863417|UK           |\n",
      "|10 Palace Place Westminster Borough London SW1E 5BW UK           |303                         |2016-09-01 00:00:00|9.3          |The Nadler Victoria            | United Kingdom           | Nothing                                                                                                                                                                                                                                                                                                                                                  |2                                |1608                   | Excellent customer service                                                                                                                                                                                                                                                                                                                                     |4                                |1                                         |10.0          |[' Leisure trip ', ' Couple ', ' King Room ', ' Stayed 2 nights ', ' Submitted from a mobile device ']                                           |336 day          |51.4990259|-0.1427453|UK           |\n",
      "|1 Inverness Terrace Westminster Borough London W2 3JP UK         |1274                        |2017-01-02 00:00:00|7.7          |Grand Royale London Hyde Park  | United Kingdom           | Room was super small Very very loud you could hear everything outside the hotel and inside Very uncomfortable bed                                                                                                                                                                                                                                        |21                               |6539                   | Decent location but not for us as we thought we would be closer to winter wonderland                                                                                                                                                                                                                                                                           |18                               |4                                         |6.3           |[' Leisure trip ', ' Couple ', ' Superior Double Room ', ' Stayed 2 nights ', ' Submitted from a mobile device ']                                |213 day          |51.5109945|-0.1863417|UK           |\n",
      "|1 2 Serjeant s Inn Fleet Street City of London London EC4Y 1LL UK|639                         |2016-10-18 00:00:00|9.2          |Apex Temple Court Hotel        | Switzerland              | I could heard my neighbors above me but my friends had better experience Beside that it was great Friendly staff                                                                                                                                                                                                                                         |21                               |2619                   | Good beds                                                                                                                                                                                                                                                                                                                                                      |3                                |1                                         |8.3           |[' Leisure trip ', ' Group ', ' City King Room ', ' Stayed 2 nights ', ' Submitted from a mobile device ']                                       |289 day          |51.5137335|-0.1087512|UK           |\n",
      "|1 Inverness Terrace Westminster Borough London W2 3JP UK         |1274                        |2016-07-10 00:00:00|7.7          |Grand Royale London Hyde Park  | United Kingdom           | Room was tiny Very disappointed Completely different from the pictures                                                                                                                                                                                                                                                                                   |11                               |6539                   | Hotel was lovely from the outside and reception Friendly staff Great location                                                                                                                                                                                                                                                                                  |13                               |7                                         |7.9           |[' Leisure trip ', ' Family with young children ', ' Deluxe Double Room ', ' Stayed 1 night ', ' Submitted from a mobile device ']               |389 day          |51.5109945|-0.1863417|UK           |\n",
      "|1 Inverness Terrace Westminster Borough London W2 3JP UK         |1274                        |2016-04-10 00:00:00|7.7          |Grand Royale London Hyde Park  | United Kingdom           | I upgraded from a standard room But what I got was still pathetic A room no bigger than 8x8 with a pretend window that opened into a corridor I shudder to think what i would ve had if I hadn t upgraded                                                                                                                                                |44                               |6539                   | Location is perfect                                                                                                                                                                                                                                                                                                                                            |4                                |7                                         |6.3           |[' Business trip ', ' Solo traveler ', ' Superior Double Room ', ' Stayed 4 nights ', ' Submitted from a mobile device ']                        |480 day          |51.5109945|-0.1863417|UK           |\n",
      "|1 Kings Cross Road Islington London WC1X 9HX UK                  |628                         |2016-12-19 00:00:00|8.1          |Crowne Plaza London Kings Cross| United Kingdom           | The hash browns felt overly reheated soft instead of crisp                                                                                                                                                                                                                                                                                               |12                               |2312                   | The bed was very comfortable and and shower was absolutely amazing Staff at reception were very helpful and efficient                                                                                                                                                                                                                                          |21                               |1                                         |6.7           |[' Leisure trip ', ' Couple ', ' Standard Room ', ' Stayed 2 nights ', ' Submitted from a mobile device ']                                       |227 day          |51.5263854|-0.1136042|UK           |\n",
      "|1 8 Russell Square Camden London WC1B 5BE UK                     |724                         |2015-10-18 00:00:00|8.0          |The Principal London           | United Kingdom           | hot water tap on bath shower did not work when I complained upon booking out I was told there was nothing that could be done I was only staying there to have a nights rest sleep whilst my daughter was critically ill at GOSH very disappointed                                                                                                        |48                               |3150                   |No Positive                                                                                                                                                                                                                                                                                                                                                     |0                                |1                                         |8.8           |[' Solo traveler ', ' Single Room ', ' Stayed 1 night ']                                                                                         |655 day          |51.5226217|-0.1251602|UK           |\n",
      "|1 Rue De Libourne 12th arr 75012 Paris France                    |150                         |2016-08-12 00:00:00|8.7          |Pullman Paris Centre Bercy     | Saudi Arabia             | Restaurant close at 11 00 pm and if you like late dinner you should order from outside                                                                                                                                                                                                                                                                   |19                               |1382                   | The rooms are very clean and your check out could be delayed till 2 30 pm Also nearby lot of restaurants and coffee shops                                                                                                                                                                                                                                      |26                               |19                                        |9.2           |[' Leisure trip ', ' Family with young children ', ' Family Room Two connecting Rooms ', ' Stayed 5 nights ', ' Submitted from a mobile device ']|356 day          |48.8315204|2.3870797 |France       |\n",
      "|1 Shortlands Hammersmith and Fulham London W6 8DR UK             |704                         |2016-04-24 00:00:00|8.3          |Novotel London West            | United Kingdom           | 1 The Ice maker wasn t working on our floor 2 There wasn t an ice bucket 3 The mini fridge didn t work 4 The outlet by TV didn t work so we only had one working outlet 5 There wasn t any wash cloths to wash our faces so we used the hand towels 6 The extra lock to prevent someone getting in located on top half of the door was broken See picture|77                               |2443                   | The staff was kind and the Lounge restaurant was great The bed was comfortable                                                                                                                                                                                                                                                                                 |16                               |1                                         |8.3           |[' Leisure trip ', ' Couple ', ' Superior Room with 2 Single Beds ', ' Stayed 1 night ', ' Submitted from a mobile device ']                     |466 day          |51.4919588|-0.2200956|UK           |\n",
      "|1 2 Serjeant s Inn Fleet Street City of London London EC4Y 1LL UK|639                         |2015-10-20 00:00:00|9.2          |Apex Temple Court Hotel        | Bulgaria                 | The only drawback no parking But there is a public car park 15 minutes walk from the hotel In the preliminary correspondence with the hotel we received very polite and detailed instructions on how to find parking Special thanks to the staff for it                                                                                                  |46                               |2619                   | Liked everything Very comfortable hotel extremely friendly staff comfortable room Breakfast is excellent 10 15 minutes walk to Trafalgar Square                                                                                                                                                                                                                |22                               |24                                        |9.6           |[' Business trip ', ' Solo traveler ', ' City Twin Room ', ' Stayed 1 night ']                                                                   |653 day          |51.5137335|-0.1087512|UK           |\n",
      "|1 Addington Street Lambeth London SE1 7RY UK                     |1322                        |2017-03-10 00:00:00|8.4          |Park Plaza County Hall London  | United Kingdom           | The bed was very low which if you are over 6 foot tall was disconcerting                                                                                                                                                                                                                                                                                 |17                               |6117                   | The atmosphere was relaxed and friendly but still professional and well run refreshing for a city centre hotel                                                                                                                                                                                                                                                 |20                               |1                                         |7.5           |[' Couple ', ' Superior Double Room ', ' Stayed 1 night ', ' Submitted from a mobile device ']                                                   |146 day          |51.5014001|-0.1160092|UK           |\n",
      "|1 2 Serjeant s Inn Fleet Street City of London London EC4Y 1LL UK|639                         |2016-04-10 00:00:00|9.2          |Apex Temple Court Hotel        | United Kingdom           |No Negative                                                                                                                                                                                                                                                                                                                                               |0                                |2619                   | bed good room d cor excellent Bathroom top quality balcony lovely                                                                                                                                                                                                                                                                                              |13                               |8                                         |9.2           |[' Leisure trip ', ' Couple ', ' Superior King Room ', ' Stayed 1 night ']                                                                       |480 day          |51.5137335|-0.1087512|UK           |\n",
      "|10 Pepys Street City of London London EC3N 2NR UK                |215                         |2016-10-30 00:00:00|8.6          |Novotel London Tower Bridge    | United Kingdom           |No Negative                                                                                                                                                                                                                                                                                                                                               |0                                |1082                   | This was the second year back here with the family and it was a lovely stay just like last time Great location close to the underground and buses for transport in and around London Thoroughly recommend it as its a clean modern and a has a touch of luxury about it                                                                                        |53                               |1                                         |9.6           |[' Leisure trip ', ' Family with young children ', ' Superior Room with Queen Bed and Sofa ', ' Stayed 1 night ']                                |277 day          |51.5106538|-0.0773676|UK           |\n",
      "|1 Inverness Terrace Westminster Borough London W2 3JP UK         |1274                        |2016-07-24 00:00:00|7.7          |Grand Royale London Hyde Park  | United Kingdom           | Slightly bigger room                                                                                                                                                                                                                                                                                                                                     |4                                |6539                   | Bed extra comfortable and staff extremely helpful                                                                                                                                                                                                                                                                                                              |8                                |2                                         |10.0          |[' Leisure trip ', ' Couple ', ' Superior Double Room ', ' Stayed 3 nights ']                                                                    |375 day          |51.5109945|-0.1863417|UK           |\n",
      "|1 Addington Street Lambeth London SE1 7RY UK                     |1322                        |2016-07-11 00:00:00|8.4          |Park Plaza County Hall London  | United Kingdom           | Couple of negatives no HD on TV And breakfast area was busy and a bit open for my taste                                                                                                                                                                                                                                                                  |21                               |6117                   | The receptionist was really nice and friendly had an upgraded room location was great Price expensive as per all of London Executive room was nice wasn t reasonable food breakfast                                                                                                                                                                            |32                               |19                                        |9.6           |[' Business trip ', ' Solo traveler ', ' Superior Double Room ', ' Stayed 1 night ', ' Submitted from a mobile device ']                         |388 day          |51.5014001|-0.1160092|UK           |\n",
      "|1 8 Russell Square Camden London WC1B 5BE UK                     |724                         |2015-09-29 00:00:00|8.0          |The Principal London           | United Kingdom           | It was a lovely hotel                                                                                                                                                                                                                                                                                                                                    |6                                |3150                   | The staff were excellent                                                                                                                                                                                                                                                                                                                                       |5                                |6                                         |10.0          |[' Leisure trip ', ' Couple ', ' Double Room ', ' Stayed 2 nights ']                                                                             |674 day          |51.5226217|-0.1251602|UK           |\n",
      "|1 Shortlands Hammersmith and Fulham London W6 8DR UK             |704                         |2015-11-23 00:00:00|8.3          |Novotel London West            | United Kingdom           |No Negative                                                                                                                                                                                                                                                                                                                                               |0                                |2443                   | Staff are very good Regular visitor and they always remember me Helpful and fast                                                                                                                                                                                                                                                                               |16                               |8                                         |7.9           |[' Business trip ', ' Couple ', ' Superior Room with 2 Single Beds ', ' Stayed 2 nights ', ' Submitted from a mobile device ']                   |619 day          |51.4919588|-0.2200956|UK           |\n",
      "|1 8 Russell Square Camden London WC1B 5BE UK                     |724                         |2016-02-16 00:00:00|8.0          |The Principal London           | France                   | Price ok for a business trip though slightly high considering breakfast wasn t included in room price Upgraded room could have been nicer                                                                                                                                                                                                                |25                               |3150                   | Great location in front of Russel Square park Beautiful old building and great service from staff                                                                                                                                                                                                                                                              |18                               |24                                        |6.7           |[' Business trip ', ' Solo traveler ', ' Double Room ', ' Stayed 2 nights ']                                                                     |534 day          |51.5226217|-0.1251602|UK           |\n",
      "+-----------------------------------------------------------------+----------------------------+-------------------+-------------+-------------------------------+--------------------------+----------------------------------------------------------------------------------------------------------------------------------------------------------------------------------------------------------------------------------------------------------------------------------------------------------------------------------------------------------+---------------------------------+-----------------------+----------------------------------------------------------------------------------------------------------------------------------------------------------------------------------------------------------------------------------------------------------------------------------------------------------------------------------------------------------------+---------------------------------+------------------------------------------+--------------+-------------------------------------------------------------------------------------------------------------------------------------------------+-----------------+----------+----------+-------------+\n",
      "only showing top 20 rows\n",
      "\n"
     ]
    }
   ],
   "source": [
    "from pyspark.sql.functions import regexp_extract, expr\n",
    "\n",
    "\n",
    "# 1) Transform 'United Kingdom' to 'UK' in the 'Hotel_Address' column\n",
    "df = df.withColumn('Hotel_Address', expr(\"regexp_replace(Hotel_Address, 'United Kingdom', 'UK')\"))\n",
    "\n",
    "# 2) Get the last word of each row and create a new 'Hotel_Country' column\n",
    "df = df.withColumn('Hotel_Country', regexp_extract(df['Hotel_Address'], r'\\b(\\w+)$', 1))\n",
    "\n",
    "# Show the DataFrame with the transformations\n",
    "df.show(truncate=False)"
   ]
  },
  {
   "cell_type": "code",
   "execution_count": 8,
   "id": "73d04028",
   "metadata": {},
   "outputs": [
    {
     "name": "stdout",
     "output_type": "stream",
     "text": [
      "+--------------------+-------------+--------------------+-------------------+-------------+--------------------+--------------+\n",
      "|       Hotel_Address|Hotel_Country|          Hotel_Name|        Review_Date|Average_Score|Reviewer_Nationality|Reviewer_Score|\n",
      "+--------------------+-------------+--------------------+-------------------+-------------+--------------------+--------------+\n",
      "|1 Rue Du G n ral ...|       France| Gardette Park Hotel|2015-09-30 00:00:00|          8.2| United States of...|           9.6|\n",
      "|1 Inverness Terra...|           UK|Grand Royale Lond...|2016-04-24 00:00:00|          7.7|              Qatar |           8.3|\n",
      "|10 Palace Place W...|           UK| The Nadler Victoria|2016-09-01 00:00:00|          9.3|     United Kingdom |          10.0|\n",
      "|1 Inverness Terra...|           UK|Grand Royale Lond...|2017-01-02 00:00:00|          7.7|     United Kingdom |           6.3|\n",
      "|1 2 Serjeant s In...|           UK|Apex Temple Court...|2016-10-18 00:00:00|          9.2|        Switzerland |           8.3|\n",
      "|1 Inverness Terra...|           UK|Grand Royale Lond...|2016-07-10 00:00:00|          7.7|     United Kingdom |           7.9|\n",
      "|1 Inverness Terra...|           UK|Grand Royale Lond...|2016-04-10 00:00:00|          7.7|     United Kingdom |           6.3|\n",
      "|1 Kings Cross Roa...|           UK|Crowne Plaza Lond...|2016-12-19 00:00:00|          8.1|     United Kingdom |           6.7|\n",
      "|1 8 Russell Squar...|           UK|The Principal London|2015-10-18 00:00:00|          8.0|     United Kingdom |           8.8|\n",
      "|1 Rue De Libourne...|       France|Pullman Paris Cen...|2016-08-12 00:00:00|          8.7|       Saudi Arabia |           9.2|\n",
      "|1 Shortlands Hamm...|           UK| Novotel London West|2016-04-24 00:00:00|          8.3|     United Kingdom |           8.3|\n",
      "|1 2 Serjeant s In...|           UK|Apex Temple Court...|2015-10-20 00:00:00|          9.2|           Bulgaria |           9.6|\n",
      "|1 Addington Stree...|           UK|Park Plaza County...|2017-03-10 00:00:00|          8.4|     United Kingdom |           7.5|\n",
      "|1 2 Serjeant s In...|           UK|Apex Temple Court...|2016-04-10 00:00:00|          9.2|     United Kingdom |           9.2|\n",
      "|10 Pepys Street C...|           UK|Novotel London To...|2016-10-30 00:00:00|          8.6|     United Kingdom |           9.6|\n",
      "|1 Inverness Terra...|           UK|Grand Royale Lond...|2016-07-24 00:00:00|          7.7|     United Kingdom |          10.0|\n",
      "|1 Addington Stree...|           UK|Park Plaza County...|2016-07-11 00:00:00|          8.4|     United Kingdom |           9.6|\n",
      "|1 8 Russell Squar...|           UK|The Principal London|2015-09-29 00:00:00|          8.0|     United Kingdom |          10.0|\n",
      "|1 Shortlands Hamm...|           UK| Novotel London West|2015-11-23 00:00:00|          8.3|     United Kingdom |           7.9|\n",
      "|1 8 Russell Squar...|           UK|The Principal London|2016-02-16 00:00:00|          8.0|             France |           6.7|\n",
      "+--------------------+-------------+--------------------+-------------------+-------------+--------------------+--------------+\n",
      "only showing top 20 rows\n",
      "\n"
     ]
    }
   ],
   "source": [
    "df_selected = df.select('Hotel_Address', 'Hotel_Country', \"Hotel_Name\", \"Review_Date\", \n",
    "                        \"Average_Score\", \"Reviewer_Nationality\", \"Reviewer_Score\")\n",
    "\n",
    "df_selected.show(truncate=True)"
   ]
  },
  {
   "cell_type": "code",
   "execution_count": 9,
   "id": "233ae4d9",
   "metadata": {},
   "outputs": [
    {
     "name": "stdout",
     "output_type": "stream",
     "text": [
      "+-------------+--------------------+------------------+\n",
      "|Hotel_Country|          Hotel_Name|Avg_Reviewer_Score|\n",
      "+-------------+--------------------+------------------+\n",
      "|      Austria|   Hotel Sacher Wien|              9.59|\n",
      "|      Austria|Hollmann Beletage...|              9.55|\n",
      "|      Austria|Hotel Am Stephans...|              9.52|\n",
      "|      Austria|Palais Coburg Res...|              9.51|\n",
      "|      Austria|Hotel Sans Souci ...|              9.51|\n",
      "|      Austria|Best Western Prem...|              9.50|\n",
      "|      Austria|Boutiquehotel Das...|              9.50|\n",
      "|      Austria|The Guesthouse Vi...|              9.48|\n",
      "|      Austria|Hotel K nig von U...|              9.45|\n",
      "|      Austria|Small Luxury Hote...|              9.42|\n",
      "|      Austria|Hotel Imperial A ...|              9.40|\n",
      "|      Austria|Hotel Rathaus Wei...|              9.38|\n",
      "|      Austria|         Hotel J ger|              9.36|\n",
      "|      Austria|Appartement Hotel...|              9.28|\n",
      "|      Austria|    Hotel Capricorno|              9.27|\n",
      "|      Austria|Hotel Beethoven Wien|              9.26|\n",
      "|      Austria| The Harmonie Vienna|              9.25|\n",
      "|      Austria|Palais Hansen Kem...|              9.24|\n",
      "|      Austria|Hotel Kaiserin El...|              9.22|\n",
      "|      Austria|      Hotel Stefanie|              9.18|\n",
      "+-------------+--------------------+------------------+\n",
      "only showing top 20 rows\n",
      "\n"
     ]
    }
   ],
   "source": [
    "# Register the DataFrame as a temporary SQL table\n",
    "df_selected.createOrReplaceTempView(\"hotel_reviews\")\n",
    "\n",
    "# Define the Spark SQL query\n",
    "report_query = \"\"\"\n",
    "                SELECT\n",
    "                    Hotel_Country,\n",
    "                    Hotel_Name,\n",
    "                    FORMAT_NUMBER(AVG(Reviewer_Score), 2) AS Avg_Reviewer_Score\n",
    "                FROM\n",
    "                    hotel_reviews\n",
    "                GROUP BY\n",
    "                    Hotel_Country, Hotel_Name\n",
    "                ORDER BY\n",
    "                    Hotel_Country, Avg_Reviewer_Score DESC\n",
    "\"\"\"\n",
    "\n",
    "# Execute the query\n",
    "report_df = spark.sql(report_query)\n",
    "\n",
    "# Show the report DataFrame\n",
    "report_df.show()"
   ]
  },
  {
   "cell_type": "code",
   "execution_count": 10,
   "id": "827e6a65",
   "metadata": {},
   "outputs": [
    {
     "name": "stdout",
     "output_type": "stream",
     "text": [
      "C:\\Users\\bmart\\OneDrive\\12_Data_Engineering\\de-hotel-reviews\\data\\spark\\spark_report\n"
     ]
    }
   ],
   "source": [
    "SPARK_REPORT = os.getenv(\"SPARK_REPORT\")\n",
    "print(SPARK_REPORT)"
   ]
  },
  {
   "cell_type": "code",
   "execution_count": 11,
   "id": "22879f30",
   "metadata": {},
   "outputs": [],
   "source": [
    "# Coalesce the DataFrame into a single partition\n",
    "report_df_single_partition = report_df.coalesce(1)\n",
    "\n",
    "# Write the DataFrame to a Parquet file\n",
    "report_df_single_partition.write.parquet(f\"{SPARK_REPORT}\", mode='overwrite')"
   ]
  },
  {
   "cell_type": "code",
   "execution_count": null,
   "id": "79c71837",
   "metadata": {},
   "outputs": [],
   "source": []
  },
  {
   "cell_type": "code",
   "execution_count": 12,
   "id": "e538c7b9",
   "metadata": {},
   "outputs": [],
   "source": [
    "# spark.stop()"
   ]
  },
  {
   "cell_type": "code",
   "execution_count": null,
   "id": "724aa1b4",
   "metadata": {},
   "outputs": [],
   "source": []
  },
  {
   "cell_type": "code",
   "execution_count": null,
   "id": "4e17a3dc",
   "metadata": {},
   "outputs": [],
   "source": []
  }
 ],
 "metadata": {
  "kernelspec": {
   "display_name": "spark-b",
   "language": "python",
   "name": "spark-b"
  },
  "language_info": {
   "codemirror_mode": {
    "name": "ipython",
    "version": 3
   },
   "file_extension": ".py",
   "mimetype": "text/x-python",
   "name": "python",
   "nbconvert_exporter": "python",
   "pygments_lexer": "ipython3",
   "version": "3.9.17"
  }
 },
 "nbformat": 4,
 "nbformat_minor": 5
}
