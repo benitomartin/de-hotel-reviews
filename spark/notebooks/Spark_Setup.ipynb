{
 "cells": [
  {
   "cell_type": "code",
   "execution_count": 1,
   "id": "6c834599",
   "metadata": {},
   "outputs": [
    {
     "data": {
      "text/plain": [
       "True"
      ]
     },
     "execution_count": 1,
     "metadata": {},
     "output_type": "execute_result"
    }
   ],
   "source": [
    "import pyspark\n",
    "import os\n",
    "from pyspark.sql import SparkSession\n",
    "from dotenv import load_dotenv\n",
    "import pandas as pd\n",
    "from pyspark.sql import types \n",
    "from pyspark.sql.functions import to_timestamp\n",
    "\n",
    "load_dotenv()"
   ]
  },
  {
   "cell_type": "code",
   "execution_count": 2,
   "id": "4f5484d7",
   "metadata": {},
   "outputs": [
    {
     "data": {
      "text/plain": [
       "'C:\\\\Users\\\\bmart\\\\anaconda3\\\\envs\\\\spark-b\\\\lib\\\\site-packages\\\\pyspark\\\\__init__.py'"
      ]
     },
     "execution_count": 2,
     "metadata": {},
     "output_type": "execute_result"
    }
   ],
   "source": [
    "pyspark.__file__"
   ]
  },
  {
   "cell_type": "code",
   "execution_count": 3,
   "id": "0e5c8b9b",
   "metadata": {},
   "outputs": [
    {
     "name": "stdout",
     "output_type": "stream",
     "text": [
      "HADOOP_HOME is set to: C:\\Program Files\\hadoop-3.2.0\n"
     ]
    }
   ],
   "source": [
    "hadoop_home = os.getenv(\"HADOOP_HOME\")\n",
    "\n",
    "if hadoop_home:\n",
    "    print(\"HADOOP_HOME is set to:\", hadoop_home)\n",
    "else:\n",
    "    print(\"HADOOP_HOME is not set.\")"
   ]
  },
  {
   "cell_type": "code",
   "execution_count": 4,
   "id": "fdc1e896",
   "metadata": {},
   "outputs": [
    {
     "name": "stdout",
     "output_type": "stream",
     "text": [
      "SPARK_HOME is set to: C:\\tools\\spark-3.4.1-bin-hadoop3\n"
     ]
    }
   ],
   "source": [
    "spark_home = os.getenv(\"SPARK_HOME\")\n",
    "\n",
    "if spark_home:\n",
    "    print(\"SPARK_HOME is set to:\", spark_home)\n",
    "else:\n",
    "    print(\"SPARK_HOME is not set.\")"
   ]
  },
  {
   "cell_type": "code",
   "execution_count": 5,
   "id": "d2adbb2d",
   "metadata": {},
   "outputs": [],
   "source": [
    "spark = SparkSession.builder \\\n",
    "    .master(\"local[*]\") \\\n",
    "    .appName('test') \\\n",
    "    .getOrCreate()"
   ]
  },
  {
   "cell_type": "code",
   "execution_count": 6,
   "id": "ab1bc1db",
   "metadata": {},
   "outputs": [
    {
     "name": "stdout",
     "output_type": "stream",
     "text": [
      "C:\\Users\\bmart\\OneDrive\\12_Data_Engineering\\de-hotel-reviews\\data\\hotel_reviews.csv\n"
     ]
    }
   ],
   "source": [
    "CSV_PATH = os.getenv(\"CSV_PATH\")\n",
    "print(CSV_PATH)"
   ]
  },
  {
   "cell_type": "code",
   "execution_count": 7,
   "id": "c98bbd12",
   "metadata": {},
   "outputs": [
    {
     "name": "stdout",
     "output_type": "stream",
     "text": [
      "+--------------------+----------------------------+-----------+-------------+-----------+--------------------+--------------------+---------------------------------+-----------------------+--------------------+---------------------------------+------------------------------------------+--------------+--------------------+-----------------+----------+---------+\n",
      "|       Hotel_Address|Additional_Number_of_Scoring|Review_Date|Average_Score| Hotel_Name|Reviewer_Nationality|     Negative_Review|Review_Total_Negative_Word_Counts|Total_Number_of_Reviews|     Positive_Review|Review_Total_Positive_Word_Counts|Total_Number_of_Reviews_Reviewer_Has_Given|Reviewer_Score|                Tags|days_since_review|       lat|      lng|\n",
      "+--------------------+----------------------------+-----------+-------------+-----------+--------------------+--------------------+---------------------------------+-----------------------+--------------------+---------------------------------+------------------------------------------+--------------+--------------------+-----------------+----------+---------+\n",
      "| s Gravesandestra...|                         194|   8/3/2017|          7.7|Hotel Arena|             Russia | I am so angry th...|                              397|                   1403| Only the park ou...|                               11|                                         7|           2.9|[' Leisure trip '...|           0 days|52.3605759|4.9159683|\n",
      "| s Gravesandestra...|                         194|   8/3/2017|          7.7|Hotel Arena|            Ireland |         No Negative|                                0|                   1403| No real complain...|                              105|                                         7|           7.5|[' Leisure trip '...|           0 days|52.3605759|4.9159683|\n",
      "| s Gravesandestra...|                         194|  7/31/2017|          7.7|Hotel Arena|          Australia | Rooms are nice b...|                               42|                   1403| Location was goo...|                               21|                                         9|           7.1|[' Leisure trip '...|           3 days|52.3605759|4.9159683|\n",
      "| s Gravesandestra...|                         194|  7/31/2017|          7.7|Hotel Arena|     United Kingdom | My room was dirt...|                              210|                   1403| Great location i...|                               26|                                         1|           3.8|[' Leisure trip '...|           3 days|52.3605759|4.9159683|\n",
      "| s Gravesandestra...|                         194|  7/24/2017|          7.7|Hotel Arena|        New Zealand | You When I booke...|                              140|                   1403| Amazing location...|                                8|                                         3|           6.7|[' Leisure trip '...|          10 days|52.3605759|4.9159683|\n",
      "| s Gravesandestra...|                         194|  7/24/2017|          7.7|Hotel Arena|             Poland | Backyard of the ...|                               17|                   1403| Good restaurant ...|                               20|                                         1|           6.7|[' Leisure trip '...|          10 days|52.3605759|4.9159683|\n",
      "| s Gravesandestra...|                         194|  7/17/2017|          7.7|Hotel Arena|     United Kingdom | Cleaner did not ...|                               33|                   1403| The room is spac...|                               18|                                         6|           4.6|[' Leisure trip '...|          17 days|52.3605759|4.9159683|\n",
      "| s Gravesandestra...|                         194|  7/17/2017|          7.7|Hotel Arena|     United Kingdom | Apart from the p...|                               11|                   1403| Good location Se...|                               19|                                         1|            10|[' Leisure trip '...|          17 days|52.3605759|4.9159683|\n",
      "| s Gravesandestra...|                         194|   7/9/2017|          7.7|Hotel Arena|            Belgium | Even though the ...|                               34|                   1403|         No Positive|                                0|                                         3|           6.5|[' Leisure trip '...|          25 days|52.3605759|4.9159683|\n",
      "| s Gravesandestra...|                         194|   7/8/2017|          7.7|Hotel Arena|             Norway | The aircondition...|                               15|                   1403| The room was big...|                               50|                                         1|           7.9|[' Leisure trip '...|          26 days|52.3605759|4.9159683|\n",
      "| s Gravesandestra...|                         194|   7/7/2017|          7.7|Hotel Arena|     United Kingdom |  Nothing all great |                                5|                   1403| Rooms were stunn...|                              101|                                         2|            10|[' Leisure trip '...|          27 days|52.3605759|4.9159683|\n",
      "| s Gravesandestra...|                         194|   7/6/2017|          7.7|Hotel Arena|             France | 6 30 AM started ...|                               75|                   1403| Style location r...|                                4|                                        12|           5.8|[' Business trip ...|          28 days|52.3605759|4.9159683|\n",
      "| s Gravesandestra...|                         194|   7/6/2017|          7.7|Hotel Arena|     United Kingdom | The floor in my ...|                               28|                   1403| Comfy bed good l...|                                6|                                         7|           4.6|[' Leisure trip '...|          28 days|52.3605759|4.9159683|\n",
      "| s Gravesandestra...|                         194|   7/4/2017|          7.7|Hotel Arena|              Italy |         No Negative|                                0|                   1403| This hotel is be...|                               59|                                         6|           9.2|[' Business trip ...|          30 days|52.3605759|4.9159683|\n",
      "| s Gravesandestra...|                         194|   7/4/2017|          7.7|Hotel Arena|             Canada | The staff in the...|                               35|                   1403| It was very good...|                               15|                                         1|           8.8|[' Leisure trip '...|          30 days|52.3605759|4.9159683|\n",
      "| s Gravesandestra...|                         194|   7/3/2017|          7.7|Hotel Arena|              Italy |         No Negative|                                0|                   1403| This hotel is aw...|                               82|                                        26|            10|[' Leisure trip '...|          31 days|52.3605759|4.9159683|\n",
      "| s Gravesandestra...|                         194|   7/3/2017|          7.7|Hotel Arena|     United Kingdom | Very steep steps...|                               38|                   1403| Great onsite caf...|                               14|                                         8|           6.3|[' Leisure trip '...|          31 days|52.3605759|4.9159683|\n",
      "| s Gravesandestra...|                         194|  6/30/2017|          7.7|Hotel Arena|            Ireland | We did not like ...|                               59|                   1403| We loved the loc...|                               64|                                         2|           7.5|[' Leisure trip '...|          34 days|52.3605759|4.9159683|\n",
      "| s Gravesandestra...|                         194|  6/29/2017|          7.7|Hotel Arena|        Netherlands |         No Negative|                                0|                   1403| Public areas are...|                               33|                                         4|           7.1|[' Business trip ...|          35 days|52.3605759|4.9159683|\n",
      "| s Gravesandestra...|                         194|  6/20/2017|          7.7|Hotel Arena|          Australia | We had issues wi...|                               73|                   1403| I liked the hote...|                               48|                                        16|           7.5|[' Leisure trip '...|          44 days|52.3605759|4.9159683|\n",
      "+--------------------+----------------------------+-----------+-------------+-----------+--------------------+--------------------+---------------------------------+-----------------------+--------------------+---------------------------------+------------------------------------------+--------------+--------------------+-----------------+----------+---------+\n",
      "only showing top 20 rows\n",
      "\n"
     ]
    }
   ],
   "source": [
    "df = spark.read \\\n",
    "    .option(\"header\", \"true\") \\\n",
    "    .csv(f\"{CSV_PATH}\")\n",
    "\n",
    "df.show()"
   ]
  },
  {
   "cell_type": "code",
   "execution_count": 8,
   "id": "d8bdbc12",
   "metadata": {},
   "outputs": [
    {
     "data": {
      "text/plain": [
       "StructType([StructField('Hotel_Address', StringType(), True), StructField('Additional_Number_of_Scoring', StringType(), True), StructField('Review_Date', StringType(), True), StructField('Average_Score', StringType(), True), StructField('Hotel_Name', StringType(), True), StructField('Reviewer_Nationality', StringType(), True), StructField('Negative_Review', StringType(), True), StructField('Review_Total_Negative_Word_Counts', StringType(), True), StructField('Total_Number_of_Reviews', StringType(), True), StructField('Positive_Review', StringType(), True), StructField('Review_Total_Positive_Word_Counts', StringType(), True), StructField('Total_Number_of_Reviews_Reviewer_Has_Given', StringType(), True), StructField('Reviewer_Score', StringType(), True), StructField('Tags', StringType(), True), StructField('days_since_review', StringType(), True), StructField('lat', StringType(), True), StructField('lng', StringType(), True)])"
      ]
     },
     "execution_count": 8,
     "metadata": {},
     "output_type": "execute_result"
    }
   ],
   "source": [
    "df.schema"
   ]
  },
  {
   "cell_type": "code",
   "execution_count": 9,
   "id": "f9a920af",
   "metadata": {},
   "outputs": [
    {
     "name": "stdout",
     "output_type": "stream",
     "text": [
      "C:\\Users\\bmart\\OneDrive\\12_Data_Engineering\\de-hotel-reviews\\data\\hotel_reviews.csv\n"
     ]
    }
   ],
   "source": [
    "CSV_PATH = os.getenv(\"CSV_PATH\")\n",
    "print(CSV_PATH)"
   ]
  },
  {
   "cell_type": "code",
   "execution_count": 10,
   "id": "df3a341c",
   "metadata": {},
   "outputs": [
    {
     "data": {
      "text/html": [
       "<div>\n",
       "<style scoped>\n",
       "    .dataframe tbody tr th:only-of-type {\n",
       "        vertical-align: middle;\n",
       "    }\n",
       "\n",
       "    .dataframe tbody tr th {\n",
       "        vertical-align: top;\n",
       "    }\n",
       "\n",
       "    .dataframe thead th {\n",
       "        text-align: right;\n",
       "    }\n",
       "</style>\n",
       "<table border=\"1\" class=\"dataframe\">\n",
       "  <thead>\n",
       "    <tr style=\"text-align: right;\">\n",
       "      <th></th>\n",
       "      <th>Hotel_Address</th>\n",
       "      <th>Additional_Number_of_Scoring</th>\n",
       "      <th>Review_Date</th>\n",
       "      <th>Average_Score</th>\n",
       "      <th>Hotel_Name</th>\n",
       "      <th>Reviewer_Nationality</th>\n",
       "      <th>Negative_Review</th>\n",
       "      <th>Review_Total_Negative_Word_Counts</th>\n",
       "      <th>Total_Number_of_Reviews</th>\n",
       "      <th>Positive_Review</th>\n",
       "      <th>Review_Total_Positive_Word_Counts</th>\n",
       "      <th>Total_Number_of_Reviews_Reviewer_Has_Given</th>\n",
       "      <th>Reviewer_Score</th>\n",
       "      <th>Tags</th>\n",
       "      <th>days_since_review</th>\n",
       "      <th>lat</th>\n",
       "      <th>lng</th>\n",
       "    </tr>\n",
       "  </thead>\n",
       "  <tbody>\n",
       "    <tr>\n",
       "      <th>0</th>\n",
       "      <td>s Gravesandestraat 55 Oost 1092 AA Amsterdam ...</td>\n",
       "      <td>194</td>\n",
       "      <td>8/3/2017</td>\n",
       "      <td>7.7</td>\n",
       "      <td>Hotel Arena</td>\n",
       "      <td>Russia</td>\n",
       "      <td>I am so angry that i made this post available...</td>\n",
       "      <td>397</td>\n",
       "      <td>1403</td>\n",
       "      <td>Only the park outside of the hotel was beauti...</td>\n",
       "      <td>11</td>\n",
       "      <td>7</td>\n",
       "      <td>2.9</td>\n",
       "      <td>[' Leisure trip ', ' Couple ', ' Duplex Double...</td>\n",
       "      <td>0 days</td>\n",
       "      <td>52.360576</td>\n",
       "      <td>4.915968</td>\n",
       "    </tr>\n",
       "    <tr>\n",
       "      <th>1</th>\n",
       "      <td>s Gravesandestraat 55 Oost 1092 AA Amsterdam ...</td>\n",
       "      <td>194</td>\n",
       "      <td>8/3/2017</td>\n",
       "      <td>7.7</td>\n",
       "      <td>Hotel Arena</td>\n",
       "      <td>Ireland</td>\n",
       "      <td>No Negative</td>\n",
       "      <td>0</td>\n",
       "      <td>1403</td>\n",
       "      <td>No real complaints the hotel was great great ...</td>\n",
       "      <td>105</td>\n",
       "      <td>7</td>\n",
       "      <td>7.5</td>\n",
       "      <td>[' Leisure trip ', ' Couple ', ' Duplex Double...</td>\n",
       "      <td>0 days</td>\n",
       "      <td>52.360576</td>\n",
       "      <td>4.915968</td>\n",
       "    </tr>\n",
       "    <tr>\n",
       "      <th>2</th>\n",
       "      <td>s Gravesandestraat 55 Oost 1092 AA Amsterdam ...</td>\n",
       "      <td>194</td>\n",
       "      <td>7/31/2017</td>\n",
       "      <td>7.7</td>\n",
       "      <td>Hotel Arena</td>\n",
       "      <td>Australia</td>\n",
       "      <td>Rooms are nice but for elderly a bit difficul...</td>\n",
       "      <td>42</td>\n",
       "      <td>1403</td>\n",
       "      <td>Location was good and staff were ok It is cut...</td>\n",
       "      <td>21</td>\n",
       "      <td>9</td>\n",
       "      <td>7.1</td>\n",
       "      <td>[' Leisure trip ', ' Family with young childre...</td>\n",
       "      <td>3 days</td>\n",
       "      <td>52.360576</td>\n",
       "      <td>4.915968</td>\n",
       "    </tr>\n",
       "    <tr>\n",
       "      <th>3</th>\n",
       "      <td>s Gravesandestraat 55 Oost 1092 AA Amsterdam ...</td>\n",
       "      <td>194</td>\n",
       "      <td>7/31/2017</td>\n",
       "      <td>7.7</td>\n",
       "      <td>Hotel Arena</td>\n",
       "      <td>United Kingdom</td>\n",
       "      <td>My room was dirty and I was afraid to walk ba...</td>\n",
       "      <td>210</td>\n",
       "      <td>1403</td>\n",
       "      <td>Great location in nice surroundings the bar a...</td>\n",
       "      <td>26</td>\n",
       "      <td>1</td>\n",
       "      <td>3.8</td>\n",
       "      <td>[' Leisure trip ', ' Solo traveler ', ' Duplex...</td>\n",
       "      <td>3 days</td>\n",
       "      <td>52.360576</td>\n",
       "      <td>4.915968</td>\n",
       "    </tr>\n",
       "    <tr>\n",
       "      <th>4</th>\n",
       "      <td>s Gravesandestraat 55 Oost 1092 AA Amsterdam ...</td>\n",
       "      <td>194</td>\n",
       "      <td>7/24/2017</td>\n",
       "      <td>7.7</td>\n",
       "      <td>Hotel Arena</td>\n",
       "      <td>New Zealand</td>\n",
       "      <td>You When I booked with your company on line y...</td>\n",
       "      <td>140</td>\n",
       "      <td>1403</td>\n",
       "      <td>Amazing location and building Romantic setting</td>\n",
       "      <td>8</td>\n",
       "      <td>3</td>\n",
       "      <td>6.7</td>\n",
       "      <td>[' Leisure trip ', ' Couple ', ' Suite ', ' St...</td>\n",
       "      <td>10 days</td>\n",
       "      <td>52.360576</td>\n",
       "      <td>4.915968</td>\n",
       "    </tr>\n",
       "  </tbody>\n",
       "</table>\n",
       "</div>"
      ],
      "text/plain": [
       "                                       Hotel_Address  \\\n",
       "0   s Gravesandestraat 55 Oost 1092 AA Amsterdam ...   \n",
       "1   s Gravesandestraat 55 Oost 1092 AA Amsterdam ...   \n",
       "2   s Gravesandestraat 55 Oost 1092 AA Amsterdam ...   \n",
       "3   s Gravesandestraat 55 Oost 1092 AA Amsterdam ...   \n",
       "4   s Gravesandestraat 55 Oost 1092 AA Amsterdam ...   \n",
       "\n",
       "   Additional_Number_of_Scoring Review_Date  Average_Score   Hotel_Name  \\\n",
       "0                           194    8/3/2017            7.7  Hotel Arena   \n",
       "1                           194    8/3/2017            7.7  Hotel Arena   \n",
       "2                           194   7/31/2017            7.7  Hotel Arena   \n",
       "3                           194   7/31/2017            7.7  Hotel Arena   \n",
       "4                           194   7/24/2017            7.7  Hotel Arena   \n",
       "\n",
       "  Reviewer_Nationality                                    Negative_Review  \\\n",
       "0              Russia    I am so angry that i made this post available...   \n",
       "1             Ireland                                         No Negative   \n",
       "2           Australia    Rooms are nice but for elderly a bit difficul...   \n",
       "3      United Kingdom    My room was dirty and I was afraid to walk ba...   \n",
       "4         New Zealand    You When I booked with your company on line y...   \n",
       "\n",
       "   Review_Total_Negative_Word_Counts  Total_Number_of_Reviews  \\\n",
       "0                                397                     1403   \n",
       "1                                  0                     1403   \n",
       "2                                 42                     1403   \n",
       "3                                210                     1403   \n",
       "4                                140                     1403   \n",
       "\n",
       "                                     Positive_Review  \\\n",
       "0   Only the park outside of the hotel was beauti...   \n",
       "1   No real complaints the hotel was great great ...   \n",
       "2   Location was good and staff were ok It is cut...   \n",
       "3   Great location in nice surroundings the bar a...   \n",
       "4    Amazing location and building Romantic setting    \n",
       "\n",
       "   Review_Total_Positive_Word_Counts  \\\n",
       "0                                 11   \n",
       "1                                105   \n",
       "2                                 21   \n",
       "3                                 26   \n",
       "4                                  8   \n",
       "\n",
       "   Total_Number_of_Reviews_Reviewer_Has_Given  Reviewer_Score  \\\n",
       "0                                           7             2.9   \n",
       "1                                           7             7.5   \n",
       "2                                           9             7.1   \n",
       "3                                           1             3.8   \n",
       "4                                           3             6.7   \n",
       "\n",
       "                                                Tags days_since_review  \\\n",
       "0  [' Leisure trip ', ' Couple ', ' Duplex Double...            0 days   \n",
       "1  [' Leisure trip ', ' Couple ', ' Duplex Double...            0 days   \n",
       "2  [' Leisure trip ', ' Family with young childre...            3 days   \n",
       "3  [' Leisure trip ', ' Solo traveler ', ' Duplex...            3 days   \n",
       "4  [' Leisure trip ', ' Couple ', ' Suite ', ' St...           10 days   \n",
       "\n",
       "         lat       lng  \n",
       "0  52.360576  4.915968  \n",
       "1  52.360576  4.915968  \n",
       "2  52.360576  4.915968  \n",
       "3  52.360576  4.915968  \n",
       "4  52.360576  4.915968  "
      ]
     },
     "execution_count": 10,
     "metadata": {},
     "output_type": "execute_result"
    }
   ],
   "source": [
    "df_raw = pd.read_csv(f\"{CSV_PATH}\")\n",
    "df_raw.head()"
   ]
  },
  {
   "cell_type": "code",
   "execution_count": 11,
   "id": "064e98b5",
   "metadata": {},
   "outputs": [
    {
     "name": "stdout",
     "output_type": "stream",
     "text": [
      "C:\\Users\\bmart\\OneDrive\\12_Data_Engineering\\de-hotel-reviews\\data\\hotel_reviews_test.csv\n"
     ]
    }
   ],
   "source": [
    "TEST_CSV_PATH = os.getenv(\"TEST_CSV_PATH\")\n",
    "print(TEST_CSV_PATH)"
   ]
  },
  {
   "cell_type": "code",
   "execution_count": 12,
   "id": "50a4326b",
   "metadata": {},
   "outputs": [],
   "source": [
    "df_raw.head(1000).to_csv(f\"{TEST_CSV_PATH}\", index=False)"
   ]
  },
  {
   "cell_type": "code",
   "execution_count": 13,
   "id": "9410c7a1",
   "metadata": {},
   "outputs": [],
   "source": [
    "df_test = pd.read_csv(f\"{TEST_CSV_PATH}\")"
   ]
  },
  {
   "cell_type": "code",
   "execution_count": 14,
   "id": "5989dbaf",
   "metadata": {},
   "outputs": [
    {
     "data": {
      "text/plain": [
       "Hotel_Address                                  object\n",
       "Additional_Number_of_Scoring                    int64\n",
       "Review_Date                                    object\n",
       "Average_Score                                 float64\n",
       "Hotel_Name                                     object\n",
       "Reviewer_Nationality                           object\n",
       "Negative_Review                                object\n",
       "Review_Total_Negative_Word_Counts               int64\n",
       "Total_Number_of_Reviews                         int64\n",
       "Positive_Review                                object\n",
       "Review_Total_Positive_Word_Counts               int64\n",
       "Total_Number_of_Reviews_Reviewer_Has_Given      int64\n",
       "Reviewer_Score                                float64\n",
       "Tags                                           object\n",
       "days_since_review                              object\n",
       "lat                                           float64\n",
       "lng                                           float64\n",
       "dtype: object"
      ]
     },
     "execution_count": 14,
     "metadata": {},
     "output_type": "execute_result"
    }
   ],
   "source": [
    "df_test.dtypes"
   ]
  },
  {
   "cell_type": "code",
   "execution_count": 15,
   "id": "fa0d79fe",
   "metadata": {
    "scrolled": true
   },
   "outputs": [
    {
     "data": {
      "text/plain": [
       "StructType([StructField('Hotel_Address', StringType(), True), StructField('Additional_Number_of_Scoring', LongType(), True), StructField('Review_Date', StringType(), True), StructField('Average_Score', DoubleType(), True), StructField('Hotel_Name', StringType(), True), StructField('Reviewer_Nationality', StringType(), True), StructField('Negative_Review', StringType(), True), StructField('Review_Total_Negative_Word_Counts', LongType(), True), StructField('Total_Number_of_Reviews', LongType(), True), StructField('Positive_Review', StringType(), True), StructField('Review_Total_Positive_Word_Counts', LongType(), True), StructField('Total_Number_of_Reviews_Reviewer_Has_Given', LongType(), True), StructField('Reviewer_Score', DoubleType(), True), StructField('Tags', StringType(), True), StructField('days_since_review', StringType(), True), StructField('lat', DoubleType(), True), StructField('lng', DoubleType(), True)])"
      ]
     },
     "execution_count": 15,
     "metadata": {},
     "output_type": "execute_result"
    }
   ],
   "source": [
    "spark.createDataFrame(df_test).schema"
   ]
  },
  {
   "cell_type": "code",
   "execution_count": 16,
   "id": "fca04acc",
   "metadata": {},
   "outputs": [],
   "source": [
    "# We change Review_Date to Timestamp and LongType to IntegerType as it is 4 Bytes (LongType is 8 Bytes, less efficient)\n",
    "\n",
    "# 'Review_Date', StringType(), -- to datetime\n",
    "# 'Additional_Number_of_Scoring', LongType() -- to int\n",
    "# 'Review_Total_Negative_Word_Counts', LongType()  -- to int\n",
    "# 'Total_Number_of_Reviews', LongType()  -- to int\n",
    "# 'Review_Total_Positive_Word_Counts', LongType()  -- to int\n",
    "# 'Total_Number_of_Reviews_Reviewer_Has_Given', LongType()  -- to int"
   ]
  },
  {
   "cell_type": "code",
   "execution_count": 17,
   "id": "acd76e59",
   "metadata": {},
   "outputs": [
    {
     "name": "stdout",
     "output_type": "stream",
     "text": [
      "+--------------------+----------------------------+-------------------+-------------+-----------+--------------------+--------------------+---------------------------------+-----------------------+--------------------+---------------------------------+------------------------------------------+--------------+--------------------+-----------------+----------+---------+\n",
      "|       Hotel_Address|Additional_Number_of_Scoring|        Review_Date|Average_Score| Hotel_Name|Reviewer_Nationality|     Negative_Review|Review_Total_Negative_Word_Counts|Total_Number_of_Reviews|     Positive_Review|Review_Total_Positive_Word_Counts|Total_Number_of_Reviews_Reviewer_Has_Given|Reviewer_Score|                Tags|days_since_review|       lat|      lng|\n",
      "+--------------------+----------------------------+-------------------+-------------+-----------+--------------------+--------------------+---------------------------------+-----------------------+--------------------+---------------------------------+------------------------------------------+--------------+--------------------+-----------------+----------+---------+\n",
      "| s Gravesandestra...|                         194|2017-08-03 00:00:00|          7.7|Hotel Arena|             Russia | I am so angry th...|                              397|                   1403| Only the park ou...|                               11|                                         7|           2.9|[' Leisure trip '...|           0 days|52.3605759|4.9159683|\n",
      "| s Gravesandestra...|                         194|2017-08-03 00:00:00|          7.7|Hotel Arena|            Ireland |         No Negative|                                0|                   1403| No real complain...|                              105|                                         7|           7.5|[' Leisure trip '...|           0 days|52.3605759|4.9159683|\n",
      "| s Gravesandestra...|                         194|2017-07-31 00:00:00|          7.7|Hotel Arena|          Australia | Rooms are nice b...|                               42|                   1403| Location was goo...|                               21|                                         9|           7.1|[' Leisure trip '...|           3 days|52.3605759|4.9159683|\n",
      "| s Gravesandestra...|                         194|2017-07-31 00:00:00|          7.7|Hotel Arena|     United Kingdom | My room was dirt...|                              210|                   1403| Great location i...|                               26|                                         1|           3.8|[' Leisure trip '...|           3 days|52.3605759|4.9159683|\n",
      "| s Gravesandestra...|                         194|2017-07-24 00:00:00|          7.7|Hotel Arena|        New Zealand | You When I booke...|                              140|                   1403| Amazing location...|                                8|                                         3|           6.7|[' Leisure trip '...|          10 days|52.3605759|4.9159683|\n",
      "| s Gravesandestra...|                         194|2017-07-24 00:00:00|          7.7|Hotel Arena|             Poland | Backyard of the ...|                               17|                   1403| Good restaurant ...|                               20|                                         1|           6.7|[' Leisure trip '...|          10 days|52.3605759|4.9159683|\n",
      "| s Gravesandestra...|                         194|2017-07-17 00:00:00|          7.7|Hotel Arena|     United Kingdom | Cleaner did not ...|                               33|                   1403| The room is spac...|                               18|                                         6|           4.6|[' Leisure trip '...|          17 days|52.3605759|4.9159683|\n",
      "| s Gravesandestra...|                         194|2017-07-17 00:00:00|          7.7|Hotel Arena|     United Kingdom | Apart from the p...|                               11|                   1403| Good location Se...|                               19|                                         1|          10.0|[' Leisure trip '...|          17 days|52.3605759|4.9159683|\n",
      "| s Gravesandestra...|                         194|2017-07-09 00:00:00|          7.7|Hotel Arena|            Belgium | Even though the ...|                               34|                   1403|         No Positive|                                0|                                         3|           6.5|[' Leisure trip '...|          25 days|52.3605759|4.9159683|\n",
      "| s Gravesandestra...|                         194|2017-07-08 00:00:00|          7.7|Hotel Arena|             Norway | The aircondition...|                               15|                   1403| The room was big...|                               50|                                         1|           7.9|[' Leisure trip '...|          26 days|52.3605759|4.9159683|\n",
      "| s Gravesandestra...|                         194|2017-07-07 00:00:00|          7.7|Hotel Arena|     United Kingdom |  Nothing all great |                                5|                   1403| Rooms were stunn...|                              101|                                         2|          10.0|[' Leisure trip '...|          27 days|52.3605759|4.9159683|\n",
      "| s Gravesandestra...|                         194|2017-07-06 00:00:00|          7.7|Hotel Arena|             France | 6 30 AM started ...|                               75|                   1403| Style location r...|                                4|                                        12|           5.8|[' Business trip ...|          28 days|52.3605759|4.9159683|\n",
      "| s Gravesandestra...|                         194|2017-07-06 00:00:00|          7.7|Hotel Arena|     United Kingdom | The floor in my ...|                               28|                   1403| Comfy bed good l...|                                6|                                         7|           4.6|[' Leisure trip '...|          28 days|52.3605759|4.9159683|\n",
      "| s Gravesandestra...|                         194|2017-07-04 00:00:00|          7.7|Hotel Arena|              Italy |         No Negative|                                0|                   1403| This hotel is be...|                               59|                                         6|           9.2|[' Business trip ...|          30 days|52.3605759|4.9159683|\n",
      "| s Gravesandestra...|                         194|2017-07-04 00:00:00|          7.7|Hotel Arena|             Canada | The staff in the...|                               35|                   1403| It was very good...|                               15|                                         1|           8.8|[' Leisure trip '...|          30 days|52.3605759|4.9159683|\n",
      "| s Gravesandestra...|                         194|2017-07-03 00:00:00|          7.7|Hotel Arena|              Italy |         No Negative|                                0|                   1403| This hotel is aw...|                               82|                                        26|          10.0|[' Leisure trip '...|          31 days|52.3605759|4.9159683|\n",
      "| s Gravesandestra...|                         194|2017-07-03 00:00:00|          7.7|Hotel Arena|     United Kingdom | Very steep steps...|                               38|                   1403| Great onsite caf...|                               14|                                         8|           6.3|[' Leisure trip '...|          31 days|52.3605759|4.9159683|\n",
      "| s Gravesandestra...|                         194|2017-06-30 00:00:00|          7.7|Hotel Arena|            Ireland | We did not like ...|                               59|                   1403| We loved the loc...|                               64|                                         2|           7.5|[' Leisure trip '...|          34 days|52.3605759|4.9159683|\n",
      "| s Gravesandestra...|                         194|2017-06-29 00:00:00|          7.7|Hotel Arena|        Netherlands |         No Negative|                                0|                   1403| Public areas are...|                               33|                                         4|           7.1|[' Business trip ...|          35 days|52.3605759|4.9159683|\n",
      "| s Gravesandestra...|                         194|2017-06-20 00:00:00|          7.7|Hotel Arena|          Australia | We had issues wi...|                               73|                   1403| I liked the hote...|                               48|                                        16|           7.5|[' Leisure trip '...|          44 days|52.3605759|4.9159683|\n",
      "+--------------------+----------------------------+-------------------+-------------+-----------+--------------------+--------------------+---------------------------------+-----------------------+--------------------+---------------------------------+------------------------------------------+--------------+--------------------+-----------------+----------+---------+\n",
      "only showing top 20 rows\n",
      "\n"
     ]
    }
   ],
   "source": [
    "schema = types.StructType([\n",
    "                    types.StructField('Hotel_Address', types.StringType(), True),\n",
    "                    types.StructField('Additional_Number_of_Scoring', types.IntegerType(), True),\n",
    "                    types.StructField('Review_Date', types.StringType(), True),\n",
    "                    types.StructField('Average_Score', types.DoubleType(), True),\n",
    "                    types.StructField('Hotel_Name', types.StringType(), True),\n",
    "                    types.StructField('Reviewer_Nationality', types.StringType(), True),\n",
    "                    types.StructField('Negative_Review', types.StringType(), True),\n",
    "                    types.StructField('Review_Total_Negative_Word_Counts', types.IntegerType(), True),\n",
    "                    types.StructField('Total_Number_of_Reviews', types.IntegerType(), True),\n",
    "                    types.StructField('Positive_Review', types.StringType(), True),\n",
    "                    types.StructField('Review_Total_Positive_Word_Counts', types.IntegerType(), True),\n",
    "                    types.StructField('Total_Number_of_Reviews_Reviewer_Has_Given', types.IntegerType(), True),\n",
    "                    types.StructField('Reviewer_Score', types.DoubleType(), True),\n",
    "                    types.StructField('Tags', types.StringType(), True),\n",
    "                    types.StructField('days_since_review', types.StringType(), True),\n",
    "                    types.StructField('lat', types.DoubleType(), True),\n",
    "                    types.StructField('lng', types.DoubleType(), True)\n",
    "])\n",
    "\n",
    "\n",
    "df = spark.read \\\n",
    "    .option(\"header\", \"true\") \\\n",
    "    .schema(schema) \\\n",
    "    .csv(f\"{CSV_PATH}\")\n",
    "\n",
    "\n",
    "df = df.withColumn(\"Review_Date\", to_timestamp(df[\"Review_Date\"], \"M/d/yyyy\"))\n",
    "\n",
    "\n",
    "df.show()"
   ]
  },
  {
   "cell_type": "code",
   "execution_count": 18,
   "id": "068220b8",
   "metadata": {},
   "outputs": [
    {
     "data": {
      "text/plain": [
       "[('Hotel_Address', 'string'),\n",
       " ('Additional_Number_of_Scoring', 'int'),\n",
       " ('Review_Date', 'timestamp'),\n",
       " ('Average_Score', 'double'),\n",
       " ('Hotel_Name', 'string'),\n",
       " ('Reviewer_Nationality', 'string'),\n",
       " ('Negative_Review', 'string'),\n",
       " ('Review_Total_Negative_Word_Counts', 'int'),\n",
       " ('Total_Number_of_Reviews', 'int'),\n",
       " ('Positive_Review', 'string'),\n",
       " ('Review_Total_Positive_Word_Counts', 'int'),\n",
       " ('Total_Number_of_Reviews_Reviewer_Has_Given', 'int'),\n",
       " ('Reviewer_Score', 'double'),\n",
       " ('Tags', 'string'),\n",
       " ('days_since_review', 'string'),\n",
       " ('lat', 'double'),\n",
       " ('lng', 'double')]"
      ]
     },
     "execution_count": 18,
     "metadata": {},
     "output_type": "execute_result"
    }
   ],
   "source": [
    "df.dtypes"
   ]
  },
  {
   "cell_type": "code",
   "execution_count": 19,
   "id": "c81ce840",
   "metadata": {},
   "outputs": [
    {
     "name": "stdout",
     "output_type": "stream",
     "text": [
      "root\n",
      " |-- Hotel_Address: string (nullable = true)\n",
      " |-- Additional_Number_of_Scoring: integer (nullable = true)\n",
      " |-- Review_Date: timestamp (nullable = true)\n",
      " |-- Average_Score: double (nullable = true)\n",
      " |-- Hotel_Name: string (nullable = true)\n",
      " |-- Reviewer_Nationality: string (nullable = true)\n",
      " |-- Negative_Review: string (nullable = true)\n",
      " |-- Review_Total_Negative_Word_Counts: integer (nullable = true)\n",
      " |-- Total_Number_of_Reviews: integer (nullable = true)\n",
      " |-- Positive_Review: string (nullable = true)\n",
      " |-- Review_Total_Positive_Word_Counts: integer (nullable = true)\n",
      " |-- Total_Number_of_Reviews_Reviewer_Has_Given: integer (nullable = true)\n",
      " |-- Reviewer_Score: double (nullable = true)\n",
      " |-- Tags: string (nullable = true)\n",
      " |-- days_since_review: string (nullable = true)\n",
      " |-- lat: double (nullable = true)\n",
      " |-- lng: double (nullable = true)\n",
      "\n"
     ]
    }
   ],
   "source": [
    "df.printSchema()"
   ]
  },
  {
   "cell_type": "code",
   "execution_count": 20,
   "id": "c0db473a",
   "metadata": {},
   "outputs": [
    {
     "data": {
      "text/plain": [
       "DataFrame[Hotel_Address: string, Additional_Number_of_Scoring: int, Review_Date: timestamp, Average_Score: double, Hotel_Name: string, Reviewer_Nationality: string, Negative_Review: string, Review_Total_Negative_Word_Counts: int, Total_Number_of_Reviews: int, Positive_Review: string, Review_Total_Positive_Word_Counts: int, Total_Number_of_Reviews_Reviewer_Has_Given: int, Reviewer_Score: double, Tags: string, days_since_review: string, lat: double, lng: double]"
      ]
     },
     "execution_count": 20,
     "metadata": {},
     "output_type": "execute_result"
    }
   ],
   "source": [
    "df.repartition(10)"
   ]
  },
  {
   "cell_type": "code",
   "execution_count": 21,
   "id": "448647d4",
   "metadata": {},
   "outputs": [],
   "source": [
    "df = df.repartition(10)"
   ]
  },
  {
   "cell_type": "code",
   "execution_count": 22,
   "id": "34c694d6",
   "metadata": {},
   "outputs": [
    {
     "name": "stdout",
     "output_type": "stream",
     "text": [
      "C:\\Users\\bmart\\OneDrive\\12_Data_Engineering\\de-hotel-reviews\\data\\spark\\hotel_reviews_spark.parquet\n"
     ]
    }
   ],
   "source": [
    "SPARK_PARQUET_PATH = os.getenv(\"SPARK_PARQUET_PATH\")\n",
    "print(SPARK_PARQUET_PATH)"
   ]
  },
  {
   "cell_type": "code",
   "execution_count": 23,
   "id": "5da88841",
   "metadata": {},
   "outputs": [],
   "source": [
    "df.write.parquet(f\"{SPARK_PARQUET_PATH}\", mode = \"overwrite\")"
   ]
  },
  {
   "cell_type": "code",
   "execution_count": 24,
   "id": "5ff1c8d6",
   "metadata": {},
   "outputs": [
    {
     "data": {
      "text/plain": [
       "DataFrame[Hotel_Address: string, Additional_Number_of_Scoring: int, Review_Date: timestamp, Average_Score: double, Hotel_Name: string, Reviewer_Nationality: string, Negative_Review: string, Review_Total_Negative_Word_Counts: int, Total_Number_of_Reviews: int, Positive_Review: string, Review_Total_Positive_Word_Counts: int, Total_Number_of_Reviews_Reviewer_Has_Given: int, Reviewer_Score: double, Tags: string, days_since_review: string, lat: double, lng: double]"
      ]
     },
     "execution_count": 24,
     "metadata": {},
     "output_type": "execute_result"
    }
   ],
   "source": [
    "df = spark.read.parquet(f\"{SPARK_PARQUET_PATH}\")\n",
    "df"
   ]
  },
  {
   "cell_type": "code",
   "execution_count": 25,
   "id": "63884778",
   "metadata": {},
   "outputs": [
    {
     "name": "stdout",
     "output_type": "stream",
     "text": [
      "root\n",
      " |-- Hotel_Address: string (nullable = true)\n",
      " |-- Additional_Number_of_Scoring: integer (nullable = true)\n",
      " |-- Review_Date: timestamp (nullable = true)\n",
      " |-- Average_Score: double (nullable = true)\n",
      " |-- Hotel_Name: string (nullable = true)\n",
      " |-- Reviewer_Nationality: string (nullable = true)\n",
      " |-- Negative_Review: string (nullable = true)\n",
      " |-- Review_Total_Negative_Word_Counts: integer (nullable = true)\n",
      " |-- Total_Number_of_Reviews: integer (nullable = true)\n",
      " |-- Positive_Review: string (nullable = true)\n",
      " |-- Review_Total_Positive_Word_Counts: integer (nullable = true)\n",
      " |-- Total_Number_of_Reviews_Reviewer_Has_Given: integer (nullable = true)\n",
      " |-- Reviewer_Score: double (nullable = true)\n",
      " |-- Tags: string (nullable = true)\n",
      " |-- days_since_review: string (nullable = true)\n",
      " |-- lat: double (nullable = true)\n",
      " |-- lng: double (nullable = true)\n",
      "\n"
     ]
    }
   ],
   "source": [
    "df.printSchema()"
   ]
  },
  {
   "cell_type": "code",
   "execution_count": 26,
   "id": "690303ae",
   "metadata": {},
   "outputs": [
    {
     "data": {
      "text/plain": [
       "DataFrame[Hotel_Address: string, Hotel_Name: string, Review_Date: timestamp, Average_Score: double, Reviewer_Nationality: string, Reviewer_Score: double]"
      ]
     },
     "execution_count": 26,
     "metadata": {},
     "output_type": "execute_result"
    }
   ],
   "source": [
    "df.select(\"Hotel_Address\", \"Hotel_Name\", \"Review_Date\", \"Average_Score\", \"Reviewer_Nationality\", \"Reviewer_Score\")"
   ]
  },
  {
   "cell_type": "code",
   "execution_count": null,
   "id": "eec84cea",
   "metadata": {},
   "outputs": [],
   "source": []
  },
  {
   "cell_type": "code",
   "execution_count": 27,
   "id": "fcc2e5c5",
   "metadata": {},
   "outputs": [],
   "source": [
    "# spark.stop()"
   ]
  },
  {
   "cell_type": "code",
   "execution_count": null,
   "id": "e6eccca7",
   "metadata": {},
   "outputs": [],
   "source": []
  }
 ],
 "metadata": {
  "kernelspec": {
   "display_name": "spark-b",
   "language": "python",
   "name": "spark-b"
  },
  "language_info": {
   "codemirror_mode": {
    "name": "ipython",
    "version": 3
   },
   "file_extension": ".py",
   "mimetype": "text/x-python",
   "name": "python",
   "nbconvert_exporter": "python",
   "pygments_lexer": "ipython3",
   "version": "3.9.17"
  }
 },
 "nbformat": 4,
 "nbformat_minor": 5
}
