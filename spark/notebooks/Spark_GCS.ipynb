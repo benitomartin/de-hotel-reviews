{
 "cells": [
  {
   "cell_type": "code",
   "execution_count": 1,
   "id": "cfd6a50d",
   "metadata": {},
   "outputs": [
    {
     "data": {
      "text/plain": [
       "True"
      ]
     },
     "execution_count": 1,
     "metadata": {},
     "output_type": "execute_result"
    }
   ],
   "source": [
    "import os\n",
    "from dotenv import load_dotenv\n",
    "\n",
    "import pyspark\n",
    "from pyspark.sql import SparkSession\n",
    "from pyspark.conf import SparkConf\n",
    "from pyspark.context import SparkContext\n",
    "\n",
    "load_dotenv()"
   ]
  },
  {
   "cell_type": "code",
   "execution_count": 2,
   "id": "6acdbd19",
   "metadata": {},
   "outputs": [],
   "source": [
    "CREDENTIALS_PATH = os.getenv(\"CREDENTIALS_PATH\")\n",
    "\n",
    "conf = SparkConf() \\\n",
    "    .setMaster('local[*]') \\\n",
    "    .setAppName('test') \\\n",
    "    .set(\"spark.jars\", \"../lib/gcs-connector-hadoop3-2.2.15.jar\") \\\n",
    "    .set(\"spark.hadoop.google.cloud.auth.service.account.enable\", \"true\") \\\n",
    "    .set(\"spark.hadoop.google.cloud.auth.service.account.json.keyfile\", CREDENTIALS_PATH)"
   ]
  },
  {
   "cell_type": "code",
   "execution_count": 3,
   "id": "5926f4b2",
   "metadata": {},
   "outputs": [],
   "source": [
    "sc = SparkContext(conf=conf)\n",
    "\n",
    "hadoop_conf = sc._jsc.hadoopConfiguration()\n",
    "\n",
    "hadoop_conf.set(\"fs.AbstractFileSystem.gs.impl\",  \"com.google.cloud.hadoop.fs.gcs.GoogleHadoopFS\")\n",
    "hadoop_conf.set(\"fs.gs.impl\", \"com.google.cloud.hadoop.fs.gcs.GoogleHadoopFileSystem\")\n",
    "hadoop_conf.set(\"fs.gs.auth.service.account.json.keyfile\", CREDENTIALS_PATH)\n",
    "hadoop_conf.set(\"fs.gs.auth.service.account.enable\", \"true\")"
   ]
  },
  {
   "cell_type": "code",
   "execution_count": 4,
   "id": "c2be25e7",
   "metadata": {},
   "outputs": [],
   "source": [
    "spark = SparkSession.builder \\\n",
    "    .config(conf=sc.getConf()) \\\n",
    "    .getOrCreate()"
   ]
  },
  {
   "cell_type": "code",
   "execution_count": 5,
   "id": "bb3e63f4",
   "metadata": {},
   "outputs": [],
   "source": [
    "SPARK_GCS_DATA = os.getenv(\"SPARK_GCS_DATA\")"
   ]
  },
  {
   "cell_type": "code",
   "execution_count": 6,
   "id": "02f44524",
   "metadata": {},
   "outputs": [],
   "source": [
    "df = spark.read.parquet(f'{SPARK_GCS_DATA}')"
   ]
  },
  {
   "cell_type": "code",
   "execution_count": 7,
   "id": "f1918a60",
   "metadata": {},
   "outputs": [
    {
     "name": "stdout",
     "output_type": "stream",
     "text": [
      "+--------------------+----------------------------+-------------------+-------------+--------------------+--------------------+--------------------+---------------------------------+-----------------------+--------------------+---------------------------------+------------------------------------------+--------------+--------------------+-----------------+----------+----------+\n",
      "|       Hotel_Address|Additional_Number_of_Scoring|        Review_Date|Average_Score|          Hotel_Name|Reviewer_Nationality|     Negative_Review|Review_Total_Negative_Word_Counts|Total_Number_of_Reviews|     Positive_Review|Review_Total_Positive_Word_Counts|Total_Number_of_Reviews_Reviewer_Has_Given|Reviewer_Score|                Tags|days_since_review|       lat|       lng|\n",
      "+--------------------+----------------------------+-------------------+-------------+--------------------+--------------------+--------------------+---------------------------------+-----------------------+--------------------+---------------------------------+------------------------------------------+--------------+--------------------+-----------------+----------+----------+\n",
      "|1 Rue Du G n ral ...|                          89|2015-09-30 00:00:00|          8.2| Gardette Park Hotel| United States of...| Not a lot of int...|                               20|                   1011| We had a large c...|                               62|                                         1|           9.6|[' Leisure trip '...|          673 day|48.8610265| 2.3788974|\n",
      "|1 Inverness Terra...|                        1274|2016-04-24 00:00:00|          7.7|Grand Royale Lond...|              Qatar |   bathroom is small|                                4|                   6539| the location and...|                                5|                                        17|           8.3|[' Leisure trip '...|          466 day|51.5109945|-0.1863417|\n",
      "|10 Palace Place W...|                         303|2016-09-01 00:00:00|          9.3| The Nadler Victoria|     United Kingdom |             Nothing|                                2|                   1608| Excellent custom...|                                4|                                         1|          10.0|[' Leisure trip '...|          336 day|51.4990259|-0.1427453|\n",
      "|1 Inverness Terra...|                        1274|2017-01-02 00:00:00|          7.7|Grand Royale Lond...|     United Kingdom | Room was super s...|                               21|                   6539| Decent location ...|                               18|                                         4|           6.3|[' Leisure trip '...|          213 day|51.5109945|-0.1863417|\n",
      "|1 2 Serjeant s In...|                         639|2016-10-18 00:00:00|          9.2|Apex Temple Court...|        Switzerland | I could heard my...|                               21|                   2619|           Good beds|                                3|                                         1|           8.3|[' Leisure trip '...|          289 day|51.5137335|-0.1087512|\n",
      "|1 Inverness Terra...|                        1274|2016-07-10 00:00:00|          7.7|Grand Royale Lond...|     United Kingdom | Room was tiny Ve...|                               11|                   6539| Hotel was lovely...|                               13|                                         7|           7.9|[' Leisure trip '...|          389 day|51.5109945|-0.1863417|\n",
      "|1 Inverness Terra...|                        1274|2016-04-10 00:00:00|          7.7|Grand Royale Lond...|     United Kingdom | I upgraded from ...|                               44|                   6539| Location is perfect|                                4|                                         7|           6.3|[' Business trip ...|          480 day|51.5109945|-0.1863417|\n",
      "|1 Kings Cross Roa...|                         628|2016-12-19 00:00:00|          8.1|Crowne Plaza Lond...|     United Kingdom | The hash browns ...|                               12|                   2312| The bed was very...|                               21|                                         1|           6.7|[' Leisure trip '...|          227 day|51.5263854|-0.1136042|\n",
      "|1 8 Russell Squar...|                         724|2015-10-18 00:00:00|          8.0|The Principal London|     United Kingdom | hot water tap on...|                               48|                   3150|         No Positive|                                0|                                         1|           8.8|[' Solo traveler ...|          655 day|51.5226217|-0.1251602|\n",
      "|1 Rue De Libourne...|                         150|2016-08-12 00:00:00|          8.7|Pullman Paris Cen...|       Saudi Arabia | Restaurant close...|                               19|                   1382| The rooms are ve...|                               26|                                        19|           9.2|[' Leisure trip '...|          356 day|48.8315204| 2.3870797|\n",
      "|1 Shortlands Hamm...|                         704|2016-04-24 00:00:00|          8.3| Novotel London West|     United Kingdom | 1 The Ice maker ...|                               77|                   2443| The staff was ki...|                               16|                                         1|           8.3|[' Leisure trip '...|          466 day|51.4919588|-0.2200956|\n",
      "|1 2 Serjeant s In...|                         639|2015-10-20 00:00:00|          9.2|Apex Temple Court...|           Bulgaria | The only drawbac...|                               46|                   2619| Liked everything...|                               22|                                        24|           9.6|[' Business trip ...|          653 day|51.5137335|-0.1087512|\n",
      "|1 Addington Stree...|                        1322|2017-03-10 00:00:00|          8.4|Park Plaza County...|     United Kingdom | The bed was very...|                               17|                   6117| The atmosphere w...|                               20|                                         1|           7.5|[' Couple ', ' Su...|          146 day|51.5014001|-0.1160092|\n",
      "|1 2 Serjeant s In...|                         639|2016-04-10 00:00:00|          9.2|Apex Temple Court...|     United Kingdom |         No Negative|                                0|                   2619| bed good room d ...|                               13|                                         8|           9.2|[' Leisure trip '...|          480 day|51.5137335|-0.1087512|\n",
      "|10 Pepys Street C...|                         215|2016-10-30 00:00:00|          8.6|Novotel London To...|     United Kingdom |         No Negative|                                0|                   1082| This was the sec...|                               53|                                         1|           9.6|[' Leisure trip '...|          277 day|51.5106538|-0.0773676|\n",
      "|1 Inverness Terra...|                        1274|2016-07-24 00:00:00|          7.7|Grand Royale Lond...|     United Kingdom | Slightly bigger ...|                                4|                   6539| Bed extra comfor...|                                8|                                         2|          10.0|[' Leisure trip '...|          375 day|51.5109945|-0.1863417|\n",
      "|1 Addington Stree...|                        1322|2016-07-11 00:00:00|          8.4|Park Plaza County...|     United Kingdom | Couple of negati...|                               21|                   6117| The receptionist...|                               32|                                        19|           9.6|[' Business trip ...|          388 day|51.5014001|-0.1160092|\n",
      "|1 8 Russell Squar...|                         724|2015-09-29 00:00:00|          8.0|The Principal London|     United Kingdom | It was a lovely ...|                                6|                   3150| The staff were e...|                                5|                                         6|          10.0|[' Leisure trip '...|          674 day|51.5226217|-0.1251602|\n",
      "|1 Shortlands Hamm...|                         704|2015-11-23 00:00:00|          8.3| Novotel London West|     United Kingdom |         No Negative|                                0|                   2443| Staff are very g...|                               16|                                         8|           7.9|[' Business trip ...|          619 day|51.4919588|-0.2200956|\n",
      "|1 8 Russell Squar...|                         724|2016-02-16 00:00:00|          8.0|The Principal London|             France | Price ok for a b...|                               25|                   3150| Great location i...|                               18|                                        24|           6.7|[' Business trip ...|          534 day|51.5226217|-0.1251602|\n",
      "+--------------------+----------------------------+-------------------+-------------+--------------------+--------------------+--------------------+---------------------------------+-----------------------+--------------------+---------------------------------+------------------------------------------+--------------+--------------------+-----------------+----------+----------+\n",
      "only showing top 20 rows\n",
      "\n"
     ]
    }
   ],
   "source": [
    "df.show(truncate=True)"
   ]
  },
  {
   "cell_type": "code",
   "execution_count": 9,
   "id": "331fff68",
   "metadata": {},
   "outputs": [],
   "source": [
    "# spark.stop()"
   ]
  },
  {
   "cell_type": "code",
   "execution_count": null,
   "id": "29b7ad1c",
   "metadata": {},
   "outputs": [],
   "source": []
  }
 ],
 "metadata": {
  "kernelspec": {
   "display_name": "spark-b",
   "language": "python",
   "name": "spark-b"
  },
  "language_info": {
   "codemirror_mode": {
    "name": "ipython",
    "version": 3
   },
   "file_extension": ".py",
   "mimetype": "text/x-python",
   "name": "python",
   "nbconvert_exporter": "python",
   "pygments_lexer": "ipython3",
   "version": "3.9.17"
  }
 },
 "nbformat": 4,
 "nbformat_minor": 5
}
